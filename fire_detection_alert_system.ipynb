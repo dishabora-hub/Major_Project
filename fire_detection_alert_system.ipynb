{
 "cells": [
  {
   "cell_type": "code",
   "execution_count": null,
   "id": "0fcb97d7",
   "metadata": {},
   "outputs": [
    {
     "name": "stdout",
     "output_type": "stream",
     "text": [
      "Video Input from Cam 1\n"
     ]
    },
    {
     "ename": "",
     "evalue": "",
     "output_type": "error",
     "traceback": [
      "\u001b[1;31mThe Kernel crashed while executing code in the current cell or a previous cell. \n",
      "\u001b[1;31mPlease review the code in the cell(s) to identify a possible cause of the failure. \n",
      "\u001b[1;31mClick <a href='https://aka.ms/vscodeJupyterKernelCrash'>here</a> for more info. \n",
      "\u001b[1;31mView Jupyter <a href='command:jupyter.viewOutput'>log</a> for further details."
     ]
    }
   ],
   "source": [
    "import cv2\n",
    "import numpy as np\n",
    "\n",
    "# Initialize video capture\n",
    "video1 = cv2.VideoCapture(1)\n",
    "print(\"Video Input from Cam 1\")\n",
    "\n",
    "# Fire detection threshold\n",
    "fire_frames = 0  # Count consecutive frames with fire\n",
    "\n",
    "# Improved HSV range for detecting fire\n",
    "lower = np.array([0, 120, 200], dtype='uint8')   # Red-Orange flames\n",
    "upper = np.array([30, 255, 255], dtype='uint8')\n",
    "\n",
    "while True:\n",
    "    ret1, frame1 = video1.read()\n",
    "    if not ret1:\n",
    "        print(\"Error: Could not read frame\")\n",
    "        break\n",
    "\n",
    "    frame1 = cv2.resize(frame1, (500, 300))\n",
    "    blur1 = cv2.GaussianBlur(frame1, (15, 15), 0)\n",
    "    hsv1 = cv2.cvtColor(blur1, cv2.COLOR_BGR2HSV)\n",
    "\n",
    "    # Mask to detect fire colors\n",
    "    mask1 = cv2.inRange(hsv1, lower, upper)\n",
    "\n",
    "    # Fire intensity (number of detected pixels)\n",
    "    fire_intensity_1 = cv2.countNonZero(mask1)\n",
    "\n",
    "    # Fire detection logic\n",
    "    if fire_intensity_1 > 750:  # Fire detected\n",
    "        fire_frames += 1\n",
    "    else:\n",
    "        fire_frames = 0  # Reset count if no fire is detected\n",
    "\n",
    "    # Trigger fire alert if detected in 10+ frames\n",
    "    if fire_frames > 10:\n",
    "        print(\"🔥 Fire detected near Camera 1!\")\n",
    "\n",
    "    # Show video feed\n",
    "    cv2.imshow(\"Camera 1\", frame1)\n",
    "\n",
    "    # Quit on 'q' key\n",
    "    if cv2.waitKey(1) == ord('q'):\n",
    "        break\n",
    "\n",
    "# Cleanup\n",
    "cv2.destroyAllWindows()\n",
    "video1.release()\n"
   ]
  }
 ],
 "metadata": {
  "kernelspec": {
   "display_name": ".venv",
   "language": "python",
   "name": "python3"
  },
  "language_info": {
   "codemirror_mode": {
    "name": "ipython",
    "version": 3
   },
   "file_extension": ".py",
   "mimetype": "text/x-python",
   "name": "python",
   "nbconvert_exporter": "python",
   "pygments_lexer": "ipython3",
   "version": "3.12.2"
  }
 },
 "nbformat": 4,
 "nbformat_minor": 5
}
